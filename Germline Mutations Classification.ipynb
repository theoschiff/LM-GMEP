{
 "cells": [
  {
   "cell_type": "code",
   "execution_count": null,
   "id": "614de4af",
   "metadata": {
    "scrolled": true
   },
   "outputs": [],
   "source": [
    "pip install pandas"
   ]
  },
  {
   "cell_type": "markdown",
   "id": "b67522f7",
   "metadata": {},
   "source": [
    "# Preprocessing"
   ]
  },
  {
   "cell_type": "code",
   "execution_count": null,
   "id": "93e3e626",
   "metadata": {},
   "outputs": [],
   "source": [
    "import pandas as pd\n",
    "import matplotlib.pyplot as plt\n",
    "import numpy as np"
   ]
  },
  {
   "cell_type": "markdown",
   "id": "49985f08",
   "metadata": {},
   "source": [
    "## reading hgvs4variation_filtered.csv"
   ]
  },
  {
   "cell_type": "code",
   "execution_count": null,
   "id": "5adf6403",
   "metadata": {
    "scrolled": true
   },
   "outputs": [],
   "source": [
    "hgvs_var = pd.read_csv(\"hgvs4variation_filtered.csv\")"
   ]
  },
  {
   "cell_type": "markdown",
   "id": "6e9852b6",
   "metadata": {},
   "source": [
    "## Reading variant summary and creating the dictionnary"
   ]
  },
  {
   "cell_type": "code",
   "execution_count": null,
   "id": "292dd741",
   "metadata": {},
   "outputs": [],
   "source": [
    "variant_summ = pd.read_csv('variant_summary_filtered.csv')"
   ]
  },
  {
   "cell_type": "markdown",
   "id": "95d35afd",
   "metadata": {},
   "source": [
    "## creating dictionnaries"
   ]
  },
  {
   "cell_type": "code",
   "execution_count": null,
   "id": "9a81986a",
   "metadata": {},
   "outputs": [],
   "source": [
    "gene_names = set([n for n in hgvs_var[\"Symbol\"]  if n != 'TERC' ])\n",
    "dic = {gene: {} for gene in gene_names}\n",
    "\n",
    "IDs = []\n",
    "for row in hgvs_var.itertuples():\n",
    "    IDs.append(row.AlleleID)\n",
    "    \n",
    "AlleleIDs = set(IDs)\n",
    "    "
   ]
  },
  {
   "cell_type": "code",
   "execution_count": null,
   "id": "4a397c17",
   "metadata": {},
   "outputs": [],
   "source": [
    "daatol = {\n",
    "    \"Cys\": \"C\",\n",
    "    \"Asp\": \"D\",\n",
    "    \"Ser\": \"S\",\n",
    "    \"Gln\": \"Q\",\n",
    "    \"Lys\": \"K\",\n",
    "    \"Ile\": \"I\",\n",
    "    \"Pro\": \"P\",\n",
    "    \"Thr\": \"T\",\n",
    "    \"Phe\": \"F\",\n",
    "    \"Asn\": \"N\",\n",
    "    \"Gly\": \"G\",\n",
    "    \"His\": \"H\",\n",
    "    \"Leu\": \"L\",\n",
    "    \"Arg\": \"R\",\n",
    "    \"Trp\": \"W\",\n",
    "    \"Ala\": \"A\",\n",
    "    \"Val\": \"V\",\n",
    "    \"Glu\": \"E\",\n",
    "    \"Tyr\": \"Y\",\n",
    "    \"Met\": \"M\",\n",
    "}"
   ]
  },
  {
   "cell_type": "markdown",
   "id": "53f46fac",
   "metadata": {},
   "source": [
    "### gene sequences dictionnary and alphabet"
   ]
  },
  {
   "cell_type": "code",
   "execution_count": null,
   "id": "fab94c28",
   "metadata": {},
   "outputs": [],
   "source": [
    "gene_sequences = pd.read_csv(\"gene_seqs.csv\")\n",
    "seq_dic = {}\n",
    "for row in gene_sequences.itertuples():\n",
    "    seq_dic[row.Gene] = row.Sequence\n",
    "    \n",
    "print(len(seq_dic['POLE']))"
   ]
  },
  {
   "cell_type": "markdown",
   "id": "9c4aa251",
   "metadata": {},
   "source": [
    "### Dic of dic of dic: (Gene) Symbol: {AlleleID : {Protein Change : Clinical Significance}}"
   ]
  },
  {
   "cell_type": "code",
   "execution_count": null,
   "id": "7c4e69cb",
   "metadata": {},
   "outputs": [],
   "source": [
    "import re \n",
    "regex = re.compile('^[A-Za-z]{3}[0-9]+[A-Za-z]{3}$')\n",
    "\n",
    "for row in hgvs_var.itertuples():\n",
    "    if (row.Symbol in gene_names):\n",
    "        #exclude alleles that do not make a change in protein\n",
    "        if (row.ProteinChange != '-'):\n",
    "            proteinChange = row.ProteinChange.split('.')[1]\n",
    "            #make sure proteinChange matches the format 3 letters + number + 3 letters\n",
    "            if (regex.match(proteinChange)):\n",
    "                if (proteinChange[:3] != 'Ter'):\n",
    "                    dic[row.Symbol][row.AlleleID] = {\"Change\" : proteinChange}\n",
    "\n",
    "for row in variant_summ.itertuples():\n",
    "    if (row.GeneSymbol in gene_names):\n",
    "        if (row.AlleleID in dic[row.GeneSymbol]):\n",
    "            dic[row.GeneSymbol][row.AlleleID][\"ClinicalSignificance\"] = row.ClinicalSignificance\n"
   ]
  },
  {
   "cell_type": "code",
   "execution_count": null,
   "id": "bbba2dc1",
   "metadata": {},
   "outputs": [],
   "source": [
    "num_correct = 0\n",
    "num_incorrect = 0  \n",
    "pathogenic = set(['Pathogenic','Pathogenic/Likely pathogenic; risk factor', 'Likely pathogenic'])\n",
    "benign = set(['Benign', 'Benign/Likely benign', 'Likely benign'])\n",
    "vus = set(['Uncertain significance', 'Conflicting interpretations of pathogenicity'])\n",
    "pathogenicity = {gene: {} for gene in gene_names}"
   ]
  },
  {
   "cell_type": "code",
   "execution_count": null,
   "id": "615dac45",
   "metadata": {},
   "outputs": [],
   "source": [
    "for g in dic:\n",
    "    num_patho = 0\n",
    "    num_benign = 0\n",
    "    num_vus = 0\n",
    "    for a in dic[g]:\n",
    "        wild_type = dic[g][a]['Change'][:3] \n",
    "        loc = int(dic[g][a]['Change'][3 : -3])\n",
    "        if(loc <= 1022):\n",
    "            if(len(seq_dic[g]) > loc-1):\n",
    "                if('ClinicalSignificance' in dic[g][a].keys()):\n",
    "                    #print(dic[g][a])\n",
    "                    if(dic[g][a]['ClinicalSignificance'] in pathogenic):\n",
    "                        num_patho += 1\n",
    "                        pathogenicity[g]['Num of Pathogenic'] = num_patho\n",
    "                        print(pathogenicity)\n",
    "\n",
    "                    if(dic[g][a]['ClinicalSignificance'] in benign):\n",
    "                        num_benign += 1\n",
    "                        pathogenicity[g]['Num of Benign'] = num_benign\n",
    "\n",
    "                    elif(dic[g][a]['ClinicalSignificance'] in vus): \n",
    "                        num_vus += 1\n",
    "                        pathogenicity[g]['Num of VUS'] = num_vus\n",
    "                    if (daatol[wild_type] == seq_dic[g][loc-1]):\n",
    "                        num_correct += 1\n",
    "                    else: \n",
    "                        num_incorrect += 1\n",
    "\n",
    "        if(num_patho == 0):\n",
    "               pathogenicity[g]['Num of Pathogenic'] = num_patho\n",
    "        if(num_benign == 0):\n",
    "            pathogenicity[g]['Num of Benign'] = num_benign\n",
    "        if(num_vus == 0):\n",
    "            pathogenicity[g]['Num of VUS'] = num_vus\n",
    "            #else:\n",
    "             #   raise ValueError(\"No clinical significance for sample\", dic[g][a])\n",
    "\n",
    "        \n",
    "print(\"Number of correctly placed amino acids:\",\n",
    "      num_correct,'\\n',\"Number of misplaced amino acids:\",\n",
    "      num_incorrect)"
   ]
  },
  {
   "cell_type": "code",
   "execution_count": null,
   "id": "16667ad4",
   "metadata": {},
   "outputs": [],
   "source": []
  },
  {
   "cell_type": "markdown",
   "id": "ee3e6c51",
   "metadata": {},
   "source": [
    "## Visualisation\n"
   ]
  },
  {
   "cell_type": "code",
   "execution_count": null,
   "id": "46365d5e",
   "metadata": {
    "scrolled": true
   },
   "outputs": [],
   "source": [
    "print(sum(pathogenicity[ge]['Num of VUS'] for ge in pathogenicity), \"VUSs\")\n",
    "print(sum(pathogenicity[ge]['Num of Pathogenic'] for ge in pathogenicity), 'Pathogenic')\n",
    "print(sum(pathogenicity[ge]['Num of Benign'] for ge in pathogenicity), 'Benign')\n",
    "\n",
    "X = np.arange(len(pathogenicity))\n",
    "fig = plt.figure()\n",
    "ax = fig.add_axes([0,0,1,1])\n",
    "ax.set_title('Distribution of Pathogenicity per gene')\n",
    "ax.set_ylabel('Number of cases')\n",
    "\n",
    "ax.bar(X + 0.00, [pathogenicity[ge]['Num of VUS'] for ge in pathogenicity], color ='#fcff42', width = 0.25)\n",
    "ax.bar(X + 0.25, [pathogenicity[ge]['Num of Pathogenic'] for ge in pathogenicity], color = '#426eff', width = 0.25)\n",
    "ax.bar(X + 0.50, [pathogenicity[ge]['Num of Benign'] for ge in pathogenicity], color = 'r', width = 0.25)\n",
    "plt.legend(['VUS','Benign', 'Pathogenic'])   \n",
    "    \n",
    "plt.show()"
   ]
  },
  {
   "cell_type": "code",
   "execution_count": null,
   "id": "0cfd0e36",
   "metadata": {},
   "outputs": [],
   "source": [
    "#CDK4"
   ]
  },
  {
   "cell_type": "code",
   "execution_count": null,
   "id": "efe62321",
   "metadata": {},
   "outputs": [],
   "source": [
    "X = np.arange(1)\n",
    "fig = plt.figure()\n",
    "ax = fig.add_axes([0,0,1,1])\n",
    "ax.set_title('Distribution of Pathogenicity for ATM gene')\n",
    "ax.set_ylabel('Number of cases')\n",
    "\n",
    "ax.bar(X + 0.00, pathogenicity['ATM']['Num of VUS'], color ='#fcff42', width = 0.25)\n",
    "ax.bar(X + 0.25, pathogenicity['ATM']['Num of Benign'], color = '#426eff', width = 0.25)\n",
    "ax.bar(X + 0.50, pathogenicity['ATM']['Num of Pathogenic'], color = 'r', width = 0.25)\n",
    "ax.set_xticks([])\n",
    "\n",
    "plt.xlabel('ATM')\n",
    "plt.legend(['VUS','Benign', 'Pathogenic'])   \n",
    "    \n",
    "plt.show()"
   ]
  },
  {
   "cell_type": "code",
   "execution_count": null,
   "id": "9f0144ca",
   "metadata": {},
   "outputs": [],
   "source": [
    "print(pathogenicity['ATM']['Num of VUS'], \"VUSs\")\n",
    "print(pathogenicity['ATM']['Num of Benign'], 'Benign')\n",
    "print(pathogenicity['ATM']['Num of Pathogenic'], 'Pathogenic')"
   ]
  },
  {
   "cell_type": "code",
   "execution_count": null,
   "id": "cdee8062",
   "metadata": {},
   "outputs": [],
   "source": [
    "X = np.arange(1)\n",
    "label = 'POLE'\n",
    "fig = plt.figure()\n",
    "ax = fig.add_axes([0,0,1,1])\n",
    "ax.set_title('Distribution of Pathogenicity for POLE gene')\n",
    "ax.set_ylabel('Number of cases')\n",
    "\n",
    "ax.bar(X + 0.00, pathogenicity[label]['Num of VUS'], color ='#fcff42', width = 0.25)\n",
    "ax.bar(X + 0.25, pathogenicity[label]['Num of Benign'], color = '#426eff', width = 0.25)\n",
    "ax.bar(X + 0.50, pathogenicity[label]['Num of Pathogenic'], color = 'r', width = 0.25)\n",
    "ax.set_xticks([])\n",
    "\n",
    "plt.xlabel(label)\n",
    "plt.legend(['VUS','Benign', 'Pathogenic'])   \n",
    "    \n",
    "plt.show()"
   ]
  },
  {
   "cell_type": "code",
   "execution_count": null,
   "id": "c681356e",
   "metadata": {},
   "outputs": [],
   "source": [
    "print(pathogenicity[label]['Num of VUS'], \"VUSs\")\n",
    "print(pathogenicity[label]['Num of Benign'], 'Benign')\n",
    "print(pathogenicity[label]['Num of Pathogenic'], 'Pathogenic')"
   ]
  },
  {
   "cell_type": "markdown",
   "id": "6aa6e798",
   "metadata": {},
   "source": [
    "# The Model"
   ]
  },
  {
   "cell_type": "markdown",
   "id": "83e611ab",
   "metadata": {},
   "source": [
    "### Imports"
   ]
  },
  {
   "cell_type": "code",
   "execution_count": null,
   "id": "7ccaa832",
   "metadata": {
    "scrolled": false
   },
   "outputs": [],
   "source": [
    "pip install fair-esm"
   ]
  },
  {
   "cell_type": "code",
   "execution_count": null,
   "id": "5bd19ffc",
   "metadata": {},
   "outputs": [],
   "source": [
    "import torch\n",
    "import esm"
   ]
  },
  {
   "cell_type": "markdown",
   "id": "e4109abb",
   "metadata": {},
   "source": [
    "### Utils"
   ]
  },
  {
   "cell_type": "code",
   "execution_count": null,
   "id": "02634f0b",
   "metadata": {},
   "outputs": [],
   "source": [
    "# Copyright (c) Facebook, Inc. and its affiliates.\n",
    "#\n",
    "# This source code is licensed under the MIT license found in the\n",
    "# LICENSE file in the root directory of this source tree.\n",
    "\n",
    "\n",
    "\n",
    "def predict_pathogenic(\n",
    "    wt_sequence, mut_idx, mut_aa, model, alphabet, batch_converter, mode=\"wt\"\n",
    "):\n",
    "    if mode == \"wt\":\n",
    "        sequence = wt_sequence\n",
    "    elif mode == \"mask\":\n",
    "        sequence = wt_sequence[:mut_idx] + \"<mask>\" + wt_sequence[mut_idx + 1 :]\n",
    "    else:\n",
    "        raise ValueError(\"Invalid mode\")\n",
    "\n",
    "    # Prepare sequence for the model\n",
    "    data = [(\"protein\", sequence)]\n",
    "    _, _, batch_tokens = batch_converter(data)\n",
    "\n",
    "    # Run sequence through the model\n",
    "    with torch.no_grad():\n",
    "        if torch.cuda.is_available():\n",
    "            batch_tokens = batch_tokens.cuda()\n",
    "        token_probs = torch.log_softmax(model(batch_tokens)[\"logits\"], dim=-1)\n",
    "\n",
    "    # Compare wild-type probability to the probability of the mutated amino acid\n",
    "    wt = wt_sequence[mut_idx]\n",
    "    mt = mut_aa\n",
    "    wt_encoded, mt_encoded = alphabet.get_idx(wt), alphabet.get_idx(mt)\n",
    "\n",
    "    # add 1 for BOS\n",
    "    score = (\n",
    "        token_probs[0, 1 + mut_idx, mt_encoded]\n",
    "        - token_probs[0, 1 + mut_idx, wt_encoded]\n",
    "    )\n",
    "    return score.item()"
   ]
  },
  {
   "cell_type": "code",
   "execution_count": null,
   "id": "8f851b56",
   "metadata": {},
   "outputs": [],
   "source": []
  },
  {
   "cell_type": "markdown",
   "id": "01c7a20b",
   "metadata": {},
   "source": [
    "# Main"
   ]
  },
  {
   "cell_type": "code",
   "execution_count": null,
   "id": "127a1f3a",
   "metadata": {},
   "outputs": [],
   "source": [
    "def main():\n",
    "    # IMPROTANT: Path to a folder of your choice :\n",
    "    #torch.hub.set_dir(r\"C:\\Users\\yourusername/yourfolder)\n",
    "\n",
    "    model, alphabet = esm.pretrained.esm1v_t33_650M_UR90S_1()\n",
    "    model.eval()\n",
    "    if torch.cuda.is_available():\n",
    "        model = model.cuda()\n",
    "        print(\"Transferred model to GPU\")\n",
    "\n",
    "    batch_converter = alphabet.get_batch_converter()\n",
    "\n",
    "    # Loop over all sequences\n",
    "    location = dic['ALK'][33123]['Change'][3:-3]\n",
    "    mutation = dic['ALK'][33123]['Change'][-3:]\n",
    "    wt_sequence = seq_dic['ALK']\n",
    "    mut_idx = location\n",
    "    mut_aa = daatol[mutation]\n",
    "\n",
    "    score = predict_pathogenic(wt_sequence[:1022], mut_idx, mut_aa, model, alphabet, batch_converter)\n",
    "    \n",
    "    \n",
    "\n",
    "\n",
    "if __name__ == \"__main__\":\n",
    "    main()"
   ]
  },
  {
   "cell_type": "code",
   "execution_count": null,
   "id": "907a04c7",
   "metadata": {},
   "outputs": [],
   "source": []
  }
 ],
 "metadata": {
  "kernelspec": {
   "display_name": "Python 3 (ipykernel)",
   "language": "python",
   "name": "python3"
  },
  "language_info": {
   "codemirror_mode": {
    "name": "ipython",
    "version": 3
   },
   "file_extension": ".py",
   "mimetype": "text/x-python",
   "name": "python",
   "nbconvert_exporter": "python",
   "pygments_lexer": "ipython3",
   "version": "3.8.12"
  }
 },
 "nbformat": 4,
 "nbformat_minor": 5
}
